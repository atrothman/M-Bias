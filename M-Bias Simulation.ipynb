{
 "cells": [
  {
   "cell_type": "code",
   "execution_count": 31,
   "metadata": {},
   "outputs": [],
   "source": [
    "######################\n",
    "## import libraries ##\n",
    "######################\n",
    "import numpy as np\n",
    "np.random.seed(10815652)\n",
    "import pandas as pd\n",
    "import statsmodels.api as sm\n",
    "import statsmodels.formula.api as smf"
   ]
  },
  {
   "cell_type": "code",
   "execution_count": 32,
   "metadata": {},
   "outputs": [],
   "source": [
    "def simulate_dataset(n=100000, A_on_Y=0):\n",
    " \n",
    "    ## A: observed binary intervention (0, 1)\n",
    "    ## L: direct binary determinant of intervention A (0, 1)\n",
    "    ## U1: binary unmeasured common cause of A and Y\n",
    "    ## U2: binary unmeasured common cause of L and Y\n",
    "    ## Y: countinuous outcome\n",
    "    \n",
    "    ## specify dataframe\n",
    "    df = pd.DataFrame()\n",
    "    \n",
    "    ## specify variables Z, U1, and U2\n",
    "    U1_split = 0.52\n",
    "    U2_split = 0.23\n",
    "    df['U1'] = np.random.choice([0, 1], size=n, replace=True, p=[U1_split, (1-U1_split)])\n",
    "    df['U2'] = np.random.choice([0, 1], size=n, replace=True, p=[U2_split, (1-U2_split)])\n",
    "    \n",
    "    ## specify variable A\n",
    "    lambda_0 = -2.32\n",
    "    lambda_1 = 5.18\n",
    "    df['A'] = 0\n",
    "    df.loc[df['U1']==0, 'A'] = np.random.binomial(1, (1/(1+np.exp(-lambda_0))), size=df.loc[df['U1']==0, 'A'].shape[0])\n",
    "    df.loc[df['U1']==1, 'A'] = np.random.binomial(1, (1/(1+np.exp(-(lambda_0+lambda_1)))), size=df.loc[df['U1']==1, 'A'].shape[0])\n",
    "\n",
    "    ## specify variable L\n",
    "    Beta_0 = -0.52\n",
    "    Beta_1 = 2.32\n",
    "    Beta_2 = 1.98\n",
    "    df['L'] = 0\n",
    "    df.loc[(df['U1']==0) & (df['U2']==0), 'L'] = np.random.binomial(1, (1/(1+np.exp(-Beta_0))), size=df.loc[(df['U1']==0) & (df['U2']==0), 'L'].shape[0])\n",
    "    df.loc[(df['U1']==1) & (df['U2']==0), 'L'] = np.random.binomial(1, (1/(1+np.exp(-(Beta_0+Beta_1)))), size=df.loc[(df['U1']==1) & (df['U2']==0), 'L'].shape[0])\n",
    "    df.loc[(df['U1']==0) & (df['U2']==1), 'L'] = np.random.binomial(1, (1/(1+np.exp(-(Beta_0+Beta_2)))), size=df.loc[(df['U1']==0) & (df['U2']==1), 'L'].shape[0])\n",
    "    df.loc[(df['U1']==1) & (df['U2']==1), 'L'] = np.random.binomial(1, (1/(1+np.exp(-(Beta_0+Beta_1+Beta_2)))), size=df.loc[(df['U1']==1) & (df['U2']==1), 'L'].shape[0])\n",
    "    \n",
    "    ## specify variable Y\n",
    "    theta_0 = -0.5\n",
    "    theta_1 = 5.78\n",
    "    theta_2 = A_on_Y\n",
    "    df['Y'] = theta_0 + (theta_1*df['U2']) + (theta_2*df['A']) + np.random.normal(0, 0.5, df.shape[0])\n",
    "    \n",
    "    df = df[['A', 'L', 'Y', 'U1', 'U2']]\n",
    "    df_observed = df[['A', 'L', 'Y']].copy()\n",
    "    \n",
    "    return(df, df_observed)"
   ]
  },
  {
   "cell_type": "code",
   "execution_count": 33,
   "metadata": {},
   "outputs": [],
   "source": [
    "#################################################################\n",
    "## simulate dataset with no causal effect difference of A on Y ##\n",
    "#################################################################\n",
    "df, df_observed = simulate_dataset(n=1000000, A_on_Y=0)"
   ]
  },
  {
   "cell_type": "code",
   "execution_count": 34,
   "metadata": {},
   "outputs": [
    {
     "name": "stdout",
     "output_type": "stream",
     "text": [
      "   A  L         Y  U1  U2\n",
      "0  0  0  5.247234   0   1\n",
      "1  0  1  4.307400   0   1\n",
      "2  0  1  4.864241   0   1\n",
      "3  1  1  5.213704   1   1\n",
      "4  1  1  4.334214   1   1\n",
      "5  0  1  4.410975   0   1\n",
      "6  1  1  5.623942   1   1\n",
      "7  0  1 -0.863473   0   0\n",
      "8  1  1 -0.259578   1   0\n",
      "9  0  1  5.305411   1   1\n"
     ]
    }
   ],
   "source": [
    "#####################\n",
    "## the \"true\" data ##\n",
    "#####################\n",
    "print(df.head(n=10))"
   ]
  },
  {
   "cell_type": "code",
   "execution_count": 35,
   "metadata": {},
   "outputs": [
    {
     "name": "stdout",
     "output_type": "stream",
     "text": [
      "   A  L         Y\n",
      "0  0  0  5.247234\n",
      "1  0  1  4.307400\n",
      "2  0  1  4.864241\n",
      "3  1  1  5.213704\n",
      "4  1  1  4.334214\n",
      "5  0  1  4.410975\n",
      "6  1  1  5.623942\n",
      "7  0  1 -0.863473\n",
      "8  1  1 -0.259578\n",
      "9  0  1  5.305411\n"
     ]
    }
   ],
   "source": [
    "##############################################\n",
    "## data we get to \"observe\" in our analysis ##\n",
    "##############################################\n",
    "print(df_observed.head(n=10))"
   ]
  },
  {
   "cell_type": "code",
   "execution_count": 36,
   "metadata": {},
   "outputs": [
    {
     "name": "stdout",
     "output_type": "stream",
     "text": [
      "                 Generalized Linear Model Regression Results                  \n",
      "==============================================================================\n",
      "Dep. Variable:                      A   No. Observations:              1000000\n",
      "Model:                            GLM   Df Residuals:                   999998\n",
      "Model Family:                Binomial   Df Model:                            1\n",
      "Link Function:                  logit   Scale:                          1.0000\n",
      "Method:                          IRLS   Log-Likelihood:            -6.5465e+05\n",
      "Date:                Wed, 23 Dec 2020   Deviance:                   1.3093e+06\n",
      "Time:                        12:45:20   Pearson chi2:                 1.00e+06\n",
      "No. Iterations:                     5                                         \n",
      "Covariance Type:            nonrobust                                         \n",
      "==============================================================================\n",
      "                 coef    std err          z      P>|z|      [0.025      0.975]\n",
      "------------------------------------------------------------------------------\n",
      "Intercept     -1.3438      0.006   -227.188      0.000      -1.355      -1.332\n",
      "L              1.5968      0.006    252.778      0.000       1.584       1.609\n",
      "==============================================================================\n"
     ]
    }
   ],
   "source": [
    "##############################################\n",
    "## show L is associated with Intervention A ##\n",
    "##############################################\n",
    "model = smf.glm('A ~ L', data=df_observed, family=sm.families.Binomial()).fit()\n",
    "print(model.summary())"
   ]
  },
  {
   "cell_type": "code",
   "execution_count": 37,
   "metadata": {},
   "outputs": [
    {
     "name": "stdout",
     "output_type": "stream",
     "text": [
      "                            OLS Regression Results                            \n",
      "==============================================================================\n",
      "Dep. Variable:                      Y   R-squared:                       0.105\n",
      "Model:                            OLS   Adj. R-squared:                  0.105\n",
      "Method:                 Least Squares   F-statistic:                 5.852e+04\n",
      "Date:                Wed, 23 Dec 2020   Prob (F-statistic):               0.00\n",
      "Time:                        12:45:21   Log-Likelihood:            -2.2717e+06\n",
      "No. Observations:             1000000   AIC:                         4.543e+06\n",
      "Df Residuals:                  999997   BIC:                         4.543e+06\n",
      "Df Model:                           2                                         \n",
      "Covariance Type:            nonrobust                                         \n",
      "==============================================================================\n",
      "                 coef    std err          t      P>|t|      [0.025      0.975]\n",
      "------------------------------------------------------------------------------\n",
      "Intercept      2.3633      0.006    413.834      0.000       2.352       2.374\n",
      "L              2.1978      0.006    342.101      0.000       2.185       2.210\n",
      "A             -0.4447      0.005    -91.247      0.000      -0.454      -0.435\n",
      "==============================================================================\n",
      "Omnibus:                   133631.400   Durbin-Watson:                   2.000\n",
      "Prob(Omnibus):                  0.000   Jarque-Bera (JB):           196375.430\n",
      "Skew:                          -1.085   Prob(JB):                         0.00\n",
      "Kurtosis:                       3.072   Cond. No.                         5.00\n",
      "==============================================================================\n",
      "\n",
      "Warnings:\n",
      "[1] Standard Errors assume that the covariance matrix of the errors is correctly specified.\n"
     ]
    }
   ],
   "source": [
    "######################################################################\n",
    "## show L is associated with Outcome Y, condition on Intervention A ##\n",
    "######################################################################\n",
    "model = smf.ols(formula='Y ~ L + A', data=df).fit()\n",
    "print(model.summary())"
   ]
  },
  {
   "cell_type": "code",
   "execution_count": 38,
   "metadata": {},
   "outputs": [
    {
     "name": "stdout",
     "output_type": "stream",
     "text": [
      "                            OLS Regression Results                            \n",
      "==============================================================================\n",
      "Dep. Variable:                      Y   R-squared:                       0.000\n",
      "Model:                            OLS   Adj. R-squared:                  0.000\n",
      "Method:                 Least Squares   F-statistic:                     1.271\n",
      "Date:                Wed, 23 Dec 2020   Prob (F-statistic):              0.260\n",
      "Time:                        12:45:22   Log-Likelihood:            -2.3270e+06\n",
      "No. Observations:             1000000   AIC:                         4.654e+06\n",
      "Df Residuals:                  999998   BIC:                         4.654e+06\n",
      "Df Model:                           1                                         \n",
      "Covariance Type:            nonrobust                                         \n",
      "==============================================================================\n",
      "                 coef    std err          t      P>|t|      [0.025      0.975]\n",
      "------------------------------------------------------------------------------\n",
      "Intercept      3.9527      0.004   1126.182      0.000       3.946       3.960\n",
      "A              0.0056      0.005      1.128      0.260      -0.004       0.015\n",
      "==============================================================================\n",
      "Omnibus:                   161971.631   Durbin-Watson:                   2.000\n",
      "Prob(Omnibus):                  0.000   Jarque-Bera (JB):           248827.858\n",
      "Skew:                          -1.212   Prob(JB):                         0.00\n",
      "Kurtosis:                       2.690   Cond. No.                         2.62\n",
      "==============================================================================\n",
      "\n",
      "Warnings:\n",
      "[1] Standard Errors assume that the covariance matrix of the errors is correctly specified.\n"
     ]
    }
   ],
   "source": [
    "############################################\n",
    "## Estimate the marginal effect of A on Y ##\n",
    "############################################\n",
    "model = smf.ols(formula='Y ~ A', data=df).fit()\n",
    "print(model.summary())"
   ]
  },
  {
   "cell_type": "code",
   "execution_count": 39,
   "metadata": {},
   "outputs": [],
   "source": [
    "######################################################################\n",
    "## simulate dataset with causal effect difference of A on Y of 0.12 ##\n",
    "######################################################################\n",
    "df, df_observed = simulate_dataset(n=1000000, A_on_Y=1.62)"
   ]
  },
  {
   "cell_type": "code",
   "execution_count": 40,
   "metadata": {},
   "outputs": [
    {
     "name": "stdout",
     "output_type": "stream",
     "text": [
      "                 Generalized Linear Model Regression Results                  \n",
      "==============================================================================\n",
      "Dep. Variable:                      A   No. Observations:              1000000\n",
      "Model:                            GLM   Df Residuals:                   999998\n",
      "Model Family:                Binomial   Df Model:                            1\n",
      "Link Function:                  logit   Scale:                          1.0000\n",
      "Method:                          IRLS   Log-Likelihood:            -6.5484e+05\n",
      "Date:                Wed, 23 Dec 2020   Deviance:                   1.3097e+06\n",
      "Time:                        12:45:41   Pearson chi2:                 1.00e+06\n",
      "No. Iterations:                     5                                         \n",
      "Covariance Type:            nonrobust                                         \n",
      "==============================================================================\n",
      "                 coef    std err          z      P>|z|      [0.025      0.975]\n",
      "------------------------------------------------------------------------------\n",
      "Intercept     -1.3396      0.006   -227.103      0.000      -1.351      -1.328\n",
      "L              1.5903      0.006    252.337      0.000       1.578       1.603\n",
      "==============================================================================\n"
     ]
    }
   ],
   "source": [
    "##############################################\n",
    "## show L is associated with Intervention A ##\n",
    "##############################################\n",
    "model = smf.glm('A ~ L', data=df_observed, family=sm.families.Binomial()).fit()\n",
    "print(model.summary())"
   ]
  },
  {
   "cell_type": "code",
   "execution_count": 41,
   "metadata": {},
   "outputs": [
    {
     "name": "stdout",
     "output_type": "stream",
     "text": [
      "                            OLS Regression Results                            \n",
      "==============================================================================\n",
      "Dep. Variable:                      Y   R-squared:                       0.190\n",
      "Model:                            OLS   Adj. R-squared:                  0.190\n",
      "Method:                 Least Squares   F-statistic:                 1.176e+05\n",
      "Date:                Wed, 23 Dec 2020   Prob (F-statistic):               0.00\n",
      "Time:                        12:45:44   Log-Likelihood:            -2.2743e+06\n",
      "No. Observations:             1000000   AIC:                         4.549e+06\n",
      "Df Residuals:                  999997   BIC:                         4.549e+06\n",
      "Df Model:                           2                                         \n",
      "Covariance Type:            nonrobust                                         \n",
      "==============================================================================\n",
      "                 coef    std err          t      P>|t|      [0.025      0.975]\n",
      "------------------------------------------------------------------------------\n",
      "Intercept      2.3607      0.006    412.839      0.000       2.349       2.372\n",
      "L              2.1920      0.006    340.771      0.000       2.179       2.205\n",
      "A              1.1750      0.005    240.518      0.000       1.165       1.185\n",
      "==============================================================================\n",
      "Omnibus:                   132141.925   Durbin-Watson:                   2.000\n",
      "Prob(Omnibus):                  0.000   Jarque-Bera (JB):           193490.770\n",
      "Skew:                          -1.077   Prob(JB):                         0.00\n",
      "Kurtosis:                       3.046   Cond. No.                         4.99\n",
      "==============================================================================\n",
      "\n",
      "Warnings:\n",
      "[1] Standard Errors assume that the covariance matrix of the errors is correctly specified.\n"
     ]
    }
   ],
   "source": [
    "######################################################################\n",
    "## show L is associated with Outcome Y, condition on Intervention A ##\n",
    "######################################################################\n",
    "model = smf.ols(formula='Y ~ L + A', data=df).fit()\n",
    "print(model.summary())"
   ]
  },
  {
   "cell_type": "code",
   "execution_count": 42,
   "metadata": {},
   "outputs": [
    {
     "name": "stdout",
     "output_type": "stream",
     "text": [
      "                            OLS Regression Results                            \n",
      "==============================================================================\n",
      "Dep. Variable:                      Y   R-squared:                       0.096\n",
      "Model:                            OLS   Adj. R-squared:                  0.096\n",
      "Method:                 Least Squares   F-statistic:                 1.067e+05\n",
      "Date:                Wed, 23 Dec 2020   Prob (F-statistic):               0.00\n",
      "Time:                        12:45:49   Log-Likelihood:            -2.3293e+06\n",
      "No. Observations:             1000000   AIC:                         4.659e+06\n",
      "Df Residuals:                  999998   BIC:                         4.659e+06\n",
      "Df Model:                           1                                         \n",
      "Covariance Type:            nonrobust                                         \n",
      "==============================================================================\n",
      "                 coef    std err          t      P>|t|      [0.025      0.975]\n",
      "------------------------------------------------------------------------------\n",
      "Intercept      3.9453      0.004   1122.157      0.000       3.938       3.952\n",
      "A              1.6235      0.005    326.650      0.000       1.614       1.633\n",
      "==============================================================================\n",
      "Omnibus:                   161421.495   Durbin-Watson:                   2.000\n",
      "Prob(Omnibus):                  0.000   Jarque-Bera (JB):           245722.264\n",
      "Skew:                          -1.203   Prob(JB):                         0.00\n",
      "Kurtosis:                       2.666   Cond. No.                         2.62\n",
      "==============================================================================\n",
      "\n",
      "Warnings:\n",
      "[1] Standard Errors assume that the covariance matrix of the errors is correctly specified.\n"
     ]
    }
   ],
   "source": [
    "############################################\n",
    "## Estimate the marginal effect of A on Y ##\n",
    "############################################\n",
    "model = smf.ols(formula='Y ~ A', data=df).fit()\n",
    "print(model.summary())"
   ]
  }
 ],
 "metadata": {
  "kernelspec": {
   "display_name": "tf_gpu",
   "language": "python",
   "name": "tf_gpu"
  },
  "language_info": {
   "codemirror_mode": {
    "name": "ipython",
    "version": 3
   },
   "file_extension": ".py",
   "mimetype": "text/x-python",
   "name": "python",
   "nbconvert_exporter": "python",
   "pygments_lexer": "ipython3",
   "version": "3.7.4"
  }
 },
 "nbformat": 4,
 "nbformat_minor": 2
}
